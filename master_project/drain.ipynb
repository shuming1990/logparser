{
 "cells": [
  {
   "cell_type": "code",
   "execution_count": null,
   "metadata": {},
   "outputs": [],
   "source": [
    "#!/usr/bin/env python\n",
    "import sys\n",
    "sys.path.append('../')\n",
    "from logparser import Drain\n",
    "\n",
    "input_dir  = '../data/' # The input directory of log file\n",
    "output_dir = 'Drain_result/' # The output directory of parsing results\n",
    "log_file   = 'HDFS.log' # The input log file name\n",
    "log_format = '<Date> <Time> <Pid> <Level> <Component>: <Content>' # HDFS log format\n",
    "# Regular expression list for optional preprocessing (default: [])\n",
    "regex      = [\n",
    "    r'blk_(|-)[0-9]+' , # block id\n",
    "    r'(/|)([0-9]+\\.){3}[0-9]+(:[0-9]+|)(:|)', # IP\n",
    "    r'(?<=[^A-Za-z0-9])(\\-?\\+?\\d+)(?=[^A-Za-z0-9])|[0-9]+$', # Numbers\n",
    "]\n",
    "st         = 0.5  # Similarity threshold\n",
    "depth      = 4  # Depth of all leaf nodes\n",
    "\n",
    "parser = Drain.LogParser(log_format, indir=input_dir, outdir=output_dir,  depth=depth, st=st, rex=regex)\n",
    "parser.parse(log_file)\n",
    "\n"
   ]
  },
  {
   "cell_type": "code",
   "execution_count": null,
   "metadata": {},
   "outputs": [],
   "source": [
    "#!/usr/bin/env python\n",
    "import sys\n",
    "sys.path.append('../')\n",
    "from logparser import Drain\n",
    "\n",
    "input_dir  = '../data/merged_hadoop/' # The input directory of log file\n",
    "output_dir = 'Drain_result/' # The output directory of parsing results\n",
    "log_file   = 'merged.log' # The input log file name\n",
    "log_format = '<Date> <Time> <Level> <Thread> <Component>: <Content>' # Hadoop log format\n",
    "# Regular expression list for optional preprocessing (default: [])\n",
    "regex      = [\n",
    "    r'blk_(|-)[0-9]+' , # block id\n",
    "    r'(/|)([0-9]+\\.){3}[0-9]+(:[0-9]+|)(:|)', # IP\n",
    "    r'(?<=[^A-Za-z0-9])(\\-?\\+?\\d+)(?=[^A-Za-z0-9])|[0-9]+$', # Numbers\n",
    "]\n",
    "st         = 0.5  # Similarity threshold\n",
    "depth      = 4  # Depth of all leaf nodes\n",
    "\n",
    "parser = Drain.LogParser(log_format, indir=input_dir, outdir=output_dir,  depth=depth, st=st, rex=regex)\n",
    "parser.parse(log_file)\n",
    "\n"
   ]
  }
 ],
 "metadata": {
  "kernelspec": {
   "display_name": "Python 3.9.6 64-bit",
   "language": "python",
   "name": "python3"
  },
  "language_info": {
   "name": "python",
   "version": "3.9.6"
  },
  "orig_nbformat": 4,
  "vscode": {
   "interpreter": {
    "hash": "624cf2b17c1c95e813a9478254fcedb39c52f3eb3c15b31bca09ce5834351dd1"
   }
  }
 },
 "nbformat": 4,
 "nbformat_minor": 2
}
