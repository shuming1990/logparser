{
 "cells": [
  {
   "cell_type": "code",
   "execution_count": null,
   "metadata": {},
   "outputs": [],
   "source": [
    "#!/usr/bin/env python\n",
    "import sys\n",
    "sys.path.append('../')\n",
    "from logparser import LKE\n",
    "\n",
    "input_dir  = '../data/' # The input directory of log file\n",
    "output_dir = 'LKE_result/' # The output directory of parsing results\n",
    "log_file   = 'HDFS.log' # The input log file name\n",
    "log_format = '<Date> <Time> <Pid> <Level> <Component>: <Content>' # HDFS log format\n",
    "regex           = [r'blk_-?\\d+', r'(\\d+\\.){3}\\d+(:\\d+)?'] # Regular expression list for optional preprocessing (default: [])\n",
    "split_threshold = 3 # The threshold used to determine group splitting (default: 4)\n",
    "\n",
    "parser = LKE.LogParser(log_format=log_format, indir=input_dir, outdir=output_dir,\n",
    "                       rex=regex, split_threshold=split_threshold)        \n",
    "parser.parse(log_file)\n",
    "\n"
   ]
  },
  {
   "cell_type": "code",
   "execution_count": null,
   "metadata": {},
   "outputs": [],
   "source": [
    "#!/usr/bin/env python\n",
    "import sys\n",
    "sys.path.append('../')\n",
    "from logparser import LKE\n",
    "\n",
    "input_dir  = '../data/merged_hadoop/' # The input directory of log file\n",
    "output_dir = 'LKE_result/' # The output directory of parsing results\n",
    "log_file   = 'merged.log' # The input log file name\n",
    "log_format = '<Date> <Time> <Level> <Thread> <Component>: <Content>' # Hadoop log format\n",
    "regex           = [r'blk_-?\\d+', r'(\\d+\\.){3}\\d+(:\\d+)?'] # Regular expression list for optional preprocessing (default: [])\n",
    "split_threshold = 3 # The threshold used to determine group splitting (default: 4)\n",
    "\n",
    "parser = LKE.LogParser(log_format=log_format, indir=input_dir, outdir=output_dir,\n",
    "                       rex=regex, split_threshold=split_threshold)        \n",
    "parser.parse(log_file)\n",
    "\n"
   ]
  }
 ],
 "metadata": {
  "kernelspec": {
   "display_name": "Python 2.7.15 64-bit ('2.7.15')",
   "language": "python",
   "name": "python3"
  },
  "language_info": {
   "name": "python",
   "version": "2.7.15"
  },
  "orig_nbformat": 4,
  "vscode": {
   "interpreter": {
    "hash": "959bcae6438a3cb0c7805321423a80ab92aa9e88e1a4a8a9b78770b43e3d41c6"
   }
  }
 },
 "nbformat": 4,
 "nbformat_minor": 2
}
