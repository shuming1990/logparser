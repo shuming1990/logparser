{
 "cells": [
  {
   "cell_type": "code",
   "execution_count": null,
   "metadata": {},
   "outputs": [],
   "source": [
    "#!/usr/bin/env python\n",
    "import sys\n",
    "sys.path.append('../')\n",
    "from logparser import LenMa\n",
    "\n",
    "input_dir  = '../data/' # The input directory of log file\n",
    "output_dir = 'Lenma_result/' # The output directory of parsing results\n",
    "log_file   = 'HDFS.log' # The input log file name\n",
    "log_format = '<Date> <Time> <Pid> <Level> <Component>: <Content>' # HDFS log format\n",
    "threshold  = 0.9 # TODO description (default: 0.9)\n",
    "regex      = [] # Regular expression list for optional preprocessing (default: [])\n",
    "\n",
    "parser = LenMa.LogParser(input_dir, output_dir, log_format, threshold=threshold, rex=regex)\n",
    "parser.parse(log_file)\n"
   ]
  },
  {
   "cell_type": "code",
   "execution_count": null,
   "metadata": {},
   "outputs": [],
   "source": [
    "#!/usr/bin/env python\n",
    "import sys\n",
    "sys.path.append('../')\n",
    "from logparser import LenMa\n",
    "\n",
    "input_dir  = '../data/merged_hadoop/' # The input directory of log file\n",
    "output_dir = 'Lenma_result/' # The output directory of parsing results\n",
    "log_file   = 'merged.log' # The input log file name\n",
    "log_format = '<Date> <Time> <Level> <Thread> <Component>: <Content>' # Hadoop log format\n",
    "threshold  = 0.9 # TODO description (default: 0.9)\n",
    "regex      = [] # Regular expression list for optional preprocessing (default: [])\n",
    "\n",
    "parser = LenMa.LogParser(input_dir, output_dir, log_format, threshold=threshold, rex=regex)\n",
    "parser.parse(log_file)\n"
   ]
  }
 ],
 "metadata": {
  "kernelspec": {
   "display_name": "Python 3.9.6 64-bit",
   "language": "python",
   "name": "python3"
  },
  "language_info": {
   "name": "python",
   "version": "3.9.6"
  },
  "orig_nbformat": 4,
  "vscode": {
   "interpreter": {
    "hash": "624cf2b17c1c95e813a9478254fcedb39c52f3eb3c15b31bca09ce5834351dd1"
   }
  }
 },
 "nbformat": 4,
 "nbformat_minor": 2
}
