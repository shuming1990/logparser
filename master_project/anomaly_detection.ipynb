{
 "cells": [
  {
   "cell_type": "code",
   "execution_count": 2,
   "id": "63b87f4c",
   "metadata": {},
   "outputs": [],
   "source": [
    "import numpy as np\n",
    "import pandas as pd"
   ]
  },
  {
   "cell_type": "code",
   "execution_count": 3,
   "id": "3331b4fa",
   "metadata": {},
   "outputs": [],
   "source": [
    "from sklearn.utils import shuffle\n",
    "\n",
    "def _split_data(x_data, y_data=None, train_ratio=0, split_type='uniform'):\n",
    "    if split_type == 'uniform' and y_data is not None:\n",
    "        pos_idx = y_data > 0\n",
    "        x_pos = x_data[pos_idx]\n",
    "        y_pos = y_data[pos_idx]\n",
    "        x_neg = x_data[~pos_idx]\n",
    "        y_neg = y_data[~pos_idx]\n",
    "        train_pos = int(train_ratio * x_pos.shape[0])\n",
    "        train_neg = int(train_ratio * x_neg.shape[0])\n",
    "        x_train = np.hstack([x_pos[0:train_pos], x_neg[0:train_neg]])\n",
    "        y_train = np.hstack([y_pos[0:train_pos], y_neg[0:train_neg]])\n",
    "        x_test = np.hstack([x_pos[train_pos:], x_neg[train_neg:]])\n",
    "        y_test = np.hstack([y_pos[train_pos:], y_neg[train_neg:]])\n",
    "    elif split_type == 'sequential':\n",
    "        num_train = int(train_ratio * x_data.shape[0])\n",
    "        x_train = x_data[0:num_train]\n",
    "        x_test = x_data[num_train:]\n",
    "        if y_data is None:\n",
    "            y_train = None\n",
    "            y_test = None\n",
    "        else:\n",
    "            y_train = y_data[0:num_train]\n",
    "            y_test = y_data[num_train:]\n",
    "    # Random shuffle\n",
    "    indexes = shuffle(np.arange(x_train.shape[0]))\n",
    "    x_train = x_train[indexes]\n",
    "    if y_train is not None:\n",
    "        y_train = y_train[indexes]\n",
    "    return (x_train, y_train), (x_test, y_test)"
   ]
  },
  {
   "cell_type": "markdown",
   "id": "2e2aa4bb",
   "metadata": {},
   "source": [
    "#### metric tools"
   ]
  },
  {
   "cell_type": "code",
   "execution_count": 4,
   "id": "9425b806",
   "metadata": {},
   "outputs": [],
   "source": [
    "import sklearn.metrics as sm\n",
    "\n",
    "FONT_SIZE = 13\n",
    "def prettify_plot(ax):\n",
    "    ax.tick_params(axis='both', which='major', labelsize=FONT_SIZE)\n",
    "    ax.legend(loc='best', prop={'size': FONT_SIZE})\n",
    "    ax.grid(True)\n",
    "\n",
    "def roc_prettify_plot(ax, set_title=True):\n",
    "    prettify_plot(ax)\n",
    "    ax.set_xlabel(\"False Positive Rate\", fontsize=FONT_SIZE)\n",
    "    ax.set_ylabel(\"True Positive Rate\", fontsize=FONT_SIZE)\n",
    "    if set_title:\n",
    "        ax.set_title(\"ROC-AUC\", fontsize=15)\n",
    "\n",
    "def prc_prettify_plot(ax, set_title=True):\n",
    "    ax.set_ylim(-0.05, 1.05)\n",
    "    prettify_plot(ax)\n",
    "    ax.set_xlabel(\"Recall\", fontsize=FONT_SIZE)\n",
    "    ax.set_ylabel(\"Precision\", fontsize=FONT_SIZE)\n",
    "    if set_title:\n",
    "        ax.set_title(\"AUPRC\", fontsize=15)\n",
    "        \n",
    "def printReport(test_label, predicted_result,method):\n",
    "    conf_matx = sm.confusion_matrix(test_label, predicted_result)\n",
    "    print(\"* \"+method+\" Confusion Matrix \\n\", conf_matx)\n",
    "\n",
    "    cls_rpt = sm.classification_report(test_label, predicted_result,digits=4)\n",
    "    print(\"* \"+method+\" Classification Report \\n\", cls_rpt)\n",
    "       \n",
    "    acc = np.sum(test_label == predicted_result)/test_label.size\n",
    "    print(acc)\n"
   ]
  },
  {
   "cell_type": "markdown",
   "id": "b79e463c",
   "metadata": {},
   "source": [
    "### Benchmark"
   ]
  },
  {
   "cell_type": "code",
   "execution_count": 5,
   "id": "c4ad8090",
   "metadata": {},
   "outputs": [
    {
     "name": "stdout",
     "output_type": "stream",
     "text": [
      "====== Transformed train data summary ======\n",
      "Train data shape: 287530-by-29\n",
      "\n",
      "====== Transformed test data summary ======\n",
      "Test data shape: 287531-by-29\n",
      "\n"
     ]
    }
   ],
   "source": [
    "#!/usr/bin/env python\n",
    "# -*- coding: utf-8 -*-\n",
    "\n",
    "import sys\n",
    "sys.path.append('../')\n",
    "from loglizer.models import LogClustering\n",
    "from loglizer import dataloader, preprocessing\n",
    "import pandas as pd ;\n",
    "import numpy as np\n",
    "\n",
    "struct_log = '../data/HDFS/HDFS.npz' # The benchmark dataset# The structured log file\n",
    "# (x_tr, y_train), (x_te, y_test) = dataloader.load_HDFS(struct_log,\n",
    "#                                                            window='session', \n",
    "#                                                            train_ratio=0.5,\n",
    "#                                                            split_type='uniform')\n",
    "data = np.load(struct_log, allow_pickle=True)\n",
    "x_data = data['x_data']\n",
    "y_data = data['y_data']\n",
    "(x_train, y_train), (x_test, y_test) = _split_data(x_data, y_data, 0.5, 'uniform')\n",
    "# feature_extractor = preprocessing.FeatureExtractor()\n",
    "# x_train = feature_extractor.fit_transform(x_tr, term_weighting='tf-idf')\n",
    "# model = LogClustering(max_dist=0.3, anomaly_threshold=0.3)\n",
    "# model.fit(x_train[y_train == 0, :]) # Use only normal samples for trainingcs\n",
    "\n",
    "feature_extractor = preprocessing.FeatureExtractor()\n",
    "x_train = feature_extractor.fit_transform(x_train, term_weighting='tf-idf')\n",
    "x_test = feature_extractor.transform(x_test)"
   ]
  },
  {
   "cell_type": "code",
   "execution_count": 144,
   "id": "bb1d5a53",
   "metadata": {},
   "outputs": [
    {
     "name": "stdout",
     "output_type": "stream",
     "text": [
      "====== Model summary ======\n",
      "Train validation:\n",
      "====== Evaluation summary ======\n",
      "Precision: 0.998, recall: 1.000, F1-measure: 0.999\n",
      "\n",
      "Test validation:\n",
      "====== Evaluation summary ======\n",
      "Precision: 0.998, recall: 0.998, F1-measure: 0.998\n",
      "\n"
     ]
    }
   ],
   "source": [
    "from loglizer.models import DecisionTree\n",
    "\n",
    "model = DecisionTree()\n",
    "model.fit(x_train, y_train)\n",
    "\n",
    "print('Train validation:')\n",
    "precision, recall, f1 = model.evaluate(x_train, y_train)\n",
    "\n",
    "print('Test validation:')\n",
    "precision, recall, f1 = model.evaluate(x_test, y_test)"
   ]
  },
  {
   "cell_type": "code",
   "execution_count": 146,
   "id": "f83ab9c9",
   "metadata": {},
   "outputs": [
    {
     "name": "stdout",
     "output_type": "stream",
     "text": [
      "* weighted-tree Confusion Matrix \n",
      " [[279093     19]\n",
      " [    16   8403]]\n",
      "* weighted-tree Classification Report \n",
      "               precision    recall  f1-score   support\n",
      "\n",
      "           0     0.9999    0.9999    0.9999    279112\n",
      "           1     0.9977    0.9981    0.9979      8419\n",
      "\n",
      "    accuracy                         0.9999    287531\n",
      "   macro avg     0.9988    0.9990    0.9989    287531\n",
      "weighted avg     0.9999    0.9999    0.9999    287531\n",
      "\n",
      "0.999878273994804\n",
      "None\n"
     ]
    },
    {
     "data": {
      "image/png": "[encoded data removed]",
      "text/plain": [
       "<Figure size 432x288 with 1 Axes>"
      ]
     },
     "metadata": {
      "needs_background": "light"
     },
     "output_type": "display_data"
    },
    {
     "data": {
      "image/png": "[encoded data removed]",
      "text/plain": [
       "<Figure size 432x288 with 1 Axes>"
      ]
     },
     "metadata": {
      "needs_background": "light"
     },
     "output_type": "display_data"
    }
   ],
   "source": [
    "# Classification Tree - weighted\n",
    "from sklearn.tree import DecisionTreeClassifier\n",
    "from sklearn.metrics import PrecisionRecallDisplay, RocCurveDisplay\n",
    "import matplotlib.pyplot as plt\n",
    "\n",
    "clf_default_b = DecisionTreeClassifier(class_weight=\"balanced\")\n",
    "\n",
    "predict_rs_b = clf_default_b.fit(x_train, y_train).predict(x_test)\n",
    "print(printReport(y_test, predict_rs_b, \"weighted-tree\"))\n",
    "\n",
    "fig, ax = plt.subplots()\n",
    "RocCurveDisplay.from_predictions(y_test, predict_rs_b, name=\"classification tree (weighted)\", ax=ax)\n",
    "roc_prettify_plot(ax)\n",
    "\n",
    "fig, ax = plt.subplots()\n",
    "PrecisionRecallDisplay.from_predictions(y_test, predict_rs_b, name=\"classification tree (weighted)\", ax=ax)\n",
    "prc_prettify_plot(ax)"
   ]
  },
  {
   "cell_type": "code",
   "execution_count": 155,
   "id": "30af807f",
   "metadata": {},
   "outputs": [
    {
     "name": "stdout",
     "output_type": "stream",
     "text": [
      "====== Model summary ======\n",
      "Starting offline clustering...\n",
      "Processed 1000 instances.\n",
      "Found 7 clusters offline.\n",
      "\n",
      "Starting online clustering...\n",
      "Processed 2000 instances.\n",
      "Processed 4000 instances.\n",
      "Processed 6000 instances.\n",
      "Processed 8000 instances.\n",
      "Processed 10000 instances.\n",
      "Processed 12000 instances.\n",
      "Processed 14000 instances.\n",
      "Processed 16000 instances.\n",
      "Processed 18000 instances.\n",
      "Processed 20000 instances.\n",
      "Processed 22000 instances.\n",
      "Processed 24000 instances.\n",
      "Processed 26000 instances.\n",
      "Processed 28000 instances.\n",
      "Processed 30000 instances.\n",
      "Processed 32000 instances.\n",
      "Processed 34000 instances.\n",
      "Processed 36000 instances.\n",
      "Processed 38000 instances.\n",
      "Processed 40000 instances.\n",
      "Processed 42000 instances.\n",
      "Processed 44000 instances.\n",
      "Processed 46000 instances.\n",
      "Processed 48000 instances.\n",
      "Processed 50000 instances.\n",
      "Processed 52000 instances.\n",
      "Processed 54000 instances.\n",
      "Processed 56000 instances.\n",
      "Processed 58000 instances.\n",
      "Processed 60000 instances.\n",
      "Processed 62000 instances.\n",
      "Processed 64000 instances.\n",
      "Processed 66000 instances.\n",
      "Processed 68000 instances.\n",
      "Processed 70000 instances.\n",
      "Processed 72000 instances.\n",
      "Processed 74000 instances.\n",
      "Processed 76000 instances.\n",
      "Processed 78000 instances.\n",
      "Processed 80000 instances.\n",
      "Processed 82000 instances.\n",
      "Processed 84000 instances.\n",
      "Processed 86000 instances.\n",
      "Processed 88000 instances.\n",
      "Processed 90000 instances.\n",
      "Processed 92000 instances.\n",
      "Processed 94000 instances.\n",
      "Processed 96000 instances.\n",
      "Processed 98000 instances.\n",
      "Processed 100000 instances.\n",
      "Processed 102000 instances.\n",
      "Processed 104000 instances.\n",
      "Processed 106000 instances.\n",
      "Processed 108000 instances.\n",
      "Processed 110000 instances.\n",
      "Processed 112000 instances.\n",
      "Processed 114000 instances.\n",
      "Processed 116000 instances.\n",
      "Processed 118000 instances.\n",
      "Processed 120000 instances.\n",
      "Processed 122000 instances.\n",
      "Processed 124000 instances.\n",
      "Processed 126000 instances.\n",
      "Processed 128000 instances.\n",
      "Processed 130000 instances.\n",
      "Processed 132000 instances.\n",
      "Processed 134000 instances.\n",
      "Processed 136000 instances.\n",
      "Processed 138000 instances.\n",
      "Processed 140000 instances.\n",
      "Processed 142000 instances.\n",
      "Processed 144000 instances.\n",
      "Processed 146000 instances.\n",
      "Processed 148000 instances.\n",
      "Processed 150000 instances.\n",
      "Processed 152000 instances.\n",
      "Processed 154000 instances.\n",
      "Processed 156000 instances.\n",
      "Processed 158000 instances.\n",
      "Processed 160000 instances.\n",
      "Processed 162000 instances.\n",
      "Processed 164000 instances.\n",
      "Processed 166000 instances.\n",
      "Processed 168000 instances.\n",
      "Processed 170000 instances.\n",
      "Processed 172000 instances.\n",
      "Processed 174000 instances.\n",
      "Processed 176000 instances.\n",
      "Processed 178000 instances.\n",
      "Processed 180000 instances.\n",
      "Processed 182000 instances.\n",
      "Processed 184000 instances.\n",
      "Processed 186000 instances.\n",
      "Processed 188000 instances.\n",
      "Processed 190000 instances.\n",
      "Processed 192000 instances.\n",
      "Processed 194000 instances.\n",
      "Processed 196000 instances.\n",
      "Processed 198000 instances.\n",
      "Processed 200000 instances.\n",
      "Processed 202000 instances.\n",
      "Processed 204000 instances.\n",
      "Processed 206000 instances.\n",
      "Processed 208000 instances.\n",
      "Processed 210000 instances.\n",
      "Processed 212000 instances.\n",
      "Processed 214000 instances.\n",
      "Processed 216000 instances.\n",
      "Processed 218000 instances.\n",
      "Processed 220000 instances.\n",
      "Processed 222000 instances.\n",
      "Processed 224000 instances.\n",
      "Processed 226000 instances.\n",
      "Processed 228000 instances.\n",
      "Processed 230000 instances.\n",
      "Processed 232000 instances.\n",
      "Processed 234000 instances.\n",
      "Processed 236000 instances.\n",
      "Processed 238000 instances.\n",
      "Processed 240000 instances.\n",
      "Processed 242000 instances.\n",
      "Processed 244000 instances.\n",
      "Processed 246000 instances.\n",
      "Processed 248000 instances.\n",
      "Processed 250000 instances.\n",
      "Processed 252000 instances.\n",
      "Processed 254000 instances.\n",
      "Processed 256000 instances.\n",
      "Processed 258000 instances.\n",
      "Processed 260000 instances.\n",
      "Processed 262000 instances.\n",
      "Processed 264000 instances.\n",
      "Processed 266000 instances.\n",
      "Processed 268000 instances.\n",
      "Processed 270000 instances.\n",
      "Processed 272000 instances.\n",
      "Processed 274000 instances.\n",
      "Processed 276000 instances.\n",
      "Processed 278000 instances.\n",
      "Processed 279111 instances.\n",
      "Found 7 clusters online.\n",
      "\n",
      "* LogCluster Confusion Matrix \n",
      " [[279112      0]\n",
      " [  2354   6065]]\n",
      "* LogCluster Classification Report \n",
      "               precision    recall  f1-score   support\n",
      "\n",
      "           0     0.9916    1.0000    0.9958    279112\n",
      "           1     1.0000    0.7204    0.8375      8419\n",
      "\n",
      "    accuracy                         0.9918    287531\n",
      "   macro avg     0.9958    0.8602    0.9166    287531\n",
      "weighted avg     0.9919    0.9918    0.9912    287531\n",
      "\n",
      "0.9918130566791059\n",
      "None\n"
     ]
    },
    {
     "data": {
      "image/png": "[encoded data removed]",
      "text/plain": [
       "<Figure size 432x288 with 1 Axes>"
      ]
     },
     "metadata": {
      "needs_background": "light"
     },
     "output_type": "display_data"
    },
    {
     "data": {
      "image/png": "[encoded data removed]",
      "text/plain": [
       "<Figure size 432x288 with 1 Axes>"
      ]
     },
     "metadata": {
      "needs_background": "light"
     },
     "output_type": "display_data"
    }
   ],
   "source": [
    "\n",
    "model_LC = LogClustering(max_dist=0.3, anomaly_threshold=0.3)\n",
    "model_LC.fit(x_train[y_train == 0, :]) # Use only normal samples for training\n",
    "\n",
    "predict_logcluster = model_LC.predict(x_test)\n",
    "\n",
    "print(printReport(y_test, predict_logcluster, \"LogCluster\"))\n",
    "\n",
    "fig, ax = plt.subplots()\n",
    "RocCurveDisplay.from_predictions(y_test, predict_logcluster, name=\"LogCluster\", ax=ax)\n",
    "roc_prettify_plot(ax)\n",
    "\n",
    "\n",
    "fig, ax = plt.subplots()\n",
    "PrecisionRecallDisplay.from_predictions(y_test, predict_logcluster, name=\"LogCluster\", ax=ax)\n",
    "prc_prettify_plot(ax)"
   ]
  },
  {
   "cell_type": "markdown",
   "id": "4a19b1c9",
   "metadata": {},
   "source": [
    "### Use Ad-hoc method to generate events"
   ]
  },
  {
   "cell_type": "code",
   "execution_count": 122,
   "id": "aa5fb44d",
   "metadata": {},
   "outputs": [
    {
     "name": "stdout",
     "output_type": "stream",
     "text": [
      "====== Transformed train data summary ======\n",
      "Train data shape: 431296-by-53\n",
      "\n",
      "====== Transformed test data summary ======\n",
      "Test data shape: 143765-by-53\n",
      "\n"
     ]
    }
   ],
   "source": [
    "from sklearn.feature_extraction.text import CountVectorizer\n",
    "\n",
    "train_set = pd.read_csv('/Users/shuming/Documents/Glasgow/master_project/master_programme/codes/train_set.csv')\n",
    "test_set = pd.read_csv('/Users/shuming/Documents/Glasgow/master_project/master_programme/codes/test_set.csv')\n",
    "\n",
    "train_rs = np.array(train_set['event'].str.split(' '))\n",
    "test_rs = np.array(test_set['event'].str.split(' '))\n",
    "train_label = train_set['Label']\n",
    "test_label = test_set['Label']\n",
    "\n",
    "# count_vec = CountVectorizer()\n",
    "# train_rs = count_vec.fit_transform(train_set['event'])\n",
    "# test_rs = count_vec.transform(test_set[\"event\"])\n",
    "feature_extractor = preprocessing.FeatureExtractor()\n",
    "train_rs = feature_extractor.fit_transform(train_rs, term_weighting='tf-idf')\n",
    "test_rs = feature_extractor.transform(test_rs)"
   ]
  },
  {
   "cell_type": "markdown",
   "id": "c62bae3b",
   "metadata": {},
   "source": [
    "#### decision tree"
   ]
  },
  {
   "cell_type": "code",
   "execution_count": 152,
   "id": "7fed7fe9",
   "metadata": {},
   "outputs": [
    {
     "name": "stdout",
     "output_type": "stream",
     "text": [
      "====== Model summary ======\n",
      "Train validation:\n",
      "====== Evaluation summary ======\n",
      "Precision: 0.999, recall: 0.999, F1-measure: 0.999\n",
      "\n",
      "Test validation:\n",
      "====== Evaluation summary ======\n",
      "Precision: 0.997, recall: 0.998, F1-measure: 0.997\n",
      "\n"
     ]
    }
   ],
   "source": [
    "model = DecisionTree()\n",
    "model.fit(train_rs, train_label.values.tolist())\n",
    "\n",
    "print('Train validation:')\n",
    "precision, recall, f1 = model.evaluate(train_rs, train_label.values.tolist())\n",
    "\n",
    "print('Test validation:')\n",
    "precision, recall, f1 = model.evaluate(test_rs, test_label.values.tolist())"
   ]
  },
  {
   "cell_type": "markdown",
   "id": "86679372",
   "metadata": {},
   "source": [
    "#### svm"
   ]
  },
  {
   "cell_type": "code",
   "execution_count": 156,
   "id": "85d67ccc",
   "metadata": {},
   "outputs": [
    {
     "name": "stdout",
     "output_type": "stream",
     "text": [
      "====== Model summary ======\n"
     ]
    },
    {
     "name": "stderr",
     "output_type": "stream",
     "text": [
      "/Applications/anaconda3/lib/python3.8/site-packages/sklearn/svm/_base.py:1225: ConvergenceWarning: Liblinear failed to converge, increase the number of iterations.\n",
      "  warnings.warn(\n"
     ]
    },
    {
     "name": "stdout",
     "output_type": "stream",
     "text": [
      "* SVM Confusion Matrix \n",
      " [[139392    175]\n",
      " [   379   3819]]\n",
      "* SVM Classification Report \n",
      "               precision    recall  f1-score   support\n",
      "\n",
      "           0     0.9973    0.9987    0.9980    139567\n",
      "           1     0.9562    0.9097    0.9324      4198\n",
      "\n",
      "    accuracy                         0.9961    143765\n",
      "   macro avg     0.9767    0.9542    0.9652    143765\n",
      "weighted avg     0.9961    0.9961    0.9961    143765\n",
      "\n",
      "0.996146489062011\n",
      "None\n"
     ]
    },
    {
     "data": {
      "image/png": "[encoded data removed]",
      "text/plain": [
       "<Figure size 432x288 with 1 Axes>"
      ]
     },
     "metadata": {
      "needs_background": "light"
     },
     "output_type": "display_data"
    },
    {
     "data": {
      "image/png": "[encoded data removed]",
      "text/plain": [
       "<Figure size 432x288 with 1 Axes>"
      ]
     },
     "metadata": {
      "needs_background": "light"
     },
     "output_type": "display_data"
    }
   ],
   "source": [
    "from loglizer.models import SVM\n",
    "model = SVM()\n",
    "model.fit(train_rs, train_label)\n",
    "\n",
    "svm_prd = model.predict(test_rs)\n",
    "print(printReport(test_label, svm_prd, \"SVM\"))\n",
    "\n",
    "fig, ax = plt.subplots()\n",
    "RocCurveDisplay.from_predictions(test_label, svm_prd, name=\"SVM\", ax=ax)\n",
    "roc_prettify_plot(ax)\n",
    "\n",
    "fig, ax = plt.subplots()\n",
    "PrecisionRecallDisplay.from_predictions(test_label, svm_prd, name=\"SVM\", ax=ax)\n",
    "prc_prettify_plot(ax)"
   ]
  },
  {
   "cell_type": "markdown",
   "id": "e5b7f291",
   "metadata": {},
   "source": [
    "#### decision tree - weighted"
   ]
  },
  {
   "cell_type": "code",
   "execution_count": 153,
   "id": "82f63f0f",
   "metadata": {},
   "outputs": [
    {
     "name": "stdout",
     "output_type": "stream",
     "text": [
      "* weighted-tree Confusion Matrix \n",
      " [[139555     12]\n",
      " [     4   4194]]\n",
      "* weighted-tree Classification Report \n",
      "               precision    recall  f1-score   support\n",
      "\n",
      "           0     1.0000    0.9999    0.9999    139567\n",
      "           1     0.9971    0.9990    0.9981      4198\n",
      "\n",
      "    accuracy                         0.9999    143765\n",
      "   macro avg     0.9986    0.9995    0.9990    143765\n",
      "weighted avg     0.9999    0.9999    0.9999    143765\n",
      "\n",
      "0.9998887072653289\n",
      "None\n"
     ]
    },
    {
     "data": {
      "image/png": "[encoded data removed]",
      "text/plain": [
       "<Figure size 432x288 with 1 Axes>"
      ]
     },
     "metadata": {
      "needs_background": "light"
     },
     "output_type": "display_data"
    },
    {
     "data": {
      "image/png": "[encoded data removed]",
      "text/plain": [
       "<Figure size 432x288 with 1 Axes>"
      ]
     },
     "metadata": {
      "needs_background": "light"
     },
     "output_type": "display_data"
    }
   ],
   "source": [
    "\n",
    "from sklearn.tree import DecisionTreeClassifier\n",
    "from sklearn.metrics import PrecisionRecallDisplay, RocCurveDisplay\n",
    "import matplotlib.pyplot as plt\n",
    "\n",
    "clf_default_b = DecisionTreeClassifier(class_weight=\"balanced\")\n",
    "\n",
    "predict_rs_b = clf_default_b.fit(train_rs, train_label.values.tolist()).predict(test_rs)\n",
    "print(printReport(test_label, predict_rs_b, \"weighted-tree\"))\n",
    "\n",
    "fig, ax = plt.subplots()\n",
    "RocCurveDisplay.from_predictions(test_label, predict_rs_b, name=\"classification tree (weighted)\", ax=ax)\n",
    "roc_prettify_plot(ax)\n",
    "\n",
    "fig, ax = plt.subplots()\n",
    "PrecisionRecallDisplay.from_predictions(test_label, predict_rs_b, name=\"classification tree (weighted)\", ax=ax)\n",
    "prc_prettify_plot(ax)"
   ]
  },
  {
   "cell_type": "code",
   "execution_count": 154,
   "id": "f8367984",
   "metadata": {},
   "outputs": [
    {
     "name": "stdout",
     "output_type": "stream",
     "text": [
      "====== Model summary ======\n",
      "Starting offline clustering...\n",
      "Processed 1000 instances.\n",
      "Found 6 clusters offline.\n",
      "\n",
      "Starting online clustering...\n",
      "Processed 2000 instances.\n",
      "Processed 4000 instances.\n",
      "Processed 6000 instances.\n",
      "Processed 8000 instances.\n",
      "Processed 10000 instances.\n",
      "Processed 12000 instances.\n",
      "Processed 14000 instances.\n",
      "Processed 16000 instances.\n",
      "Processed 18000 instances.\n",
      "Processed 20000 instances.\n",
      "Processed 22000 instances.\n",
      "Processed 24000 instances.\n",
      "Processed 26000 instances.\n",
      "Processed 28000 instances.\n",
      "Processed 30000 instances.\n",
      "Processed 32000 instances.\n",
      "Processed 34000 instances.\n",
      "Processed 36000 instances.\n",
      "Processed 38000 instances.\n",
      "Processed 40000 instances.\n",
      "Processed 42000 instances.\n",
      "Processed 44000 instances.\n",
      "Processed 46000 instances.\n",
      "Processed 48000 instances.\n",
      "Processed 50000 instances.\n",
      "Processed 52000 instances.\n",
      "Processed 54000 instances.\n",
      "Processed 56000 instances.\n",
      "Processed 58000 instances.\n",
      "Processed 60000 instances.\n",
      "Processed 62000 instances.\n",
      "Processed 64000 instances.\n",
      "Processed 66000 instances.\n",
      "Processed 68000 instances.\n",
      "Processed 70000 instances.\n",
      "Processed 72000 instances.\n",
      "Processed 74000 instances.\n",
      "Processed 76000 instances.\n",
      "Processed 78000 instances.\n",
      "Processed 80000 instances.\n",
      "Processed 82000 instances.\n",
      "Processed 84000 instances.\n",
      "Processed 86000 instances.\n",
      "Processed 88000 instances.\n",
      "Processed 90000 instances.\n",
      "Processed 92000 instances.\n",
      "Processed 94000 instances.\n",
      "Processed 96000 instances.\n",
      "Processed 98000 instances.\n",
      "Processed 100000 instances.\n",
      "Processed 102000 instances.\n",
      "Processed 104000 instances.\n",
      "Processed 106000 instances.\n",
      "Processed 108000 instances.\n",
      "Processed 110000 instances.\n",
      "Processed 112000 instances.\n",
      "Processed 114000 instances.\n",
      "Processed 116000 instances.\n",
      "Processed 118000 instances.\n",
      "Processed 120000 instances.\n",
      "Processed 122000 instances.\n",
      "Processed 124000 instances.\n",
      "Processed 126000 instances.\n",
      "Processed 128000 instances.\n",
      "Processed 130000 instances.\n",
      "Processed 132000 instances.\n",
      "Processed 134000 instances.\n",
      "Processed 136000 instances.\n",
      "Processed 138000 instances.\n",
      "Processed 140000 instances.\n",
      "Processed 142000 instances.\n",
      "Processed 144000 instances.\n",
      "Processed 146000 instances.\n",
      "Processed 148000 instances.\n",
      "Processed 150000 instances.\n",
      "Processed 152000 instances.\n",
      "Processed 154000 instances.\n",
      "Processed 156000 instances.\n",
      "Processed 158000 instances.\n",
      "Processed 160000 instances.\n",
      "Processed 162000 instances.\n",
      "Processed 164000 instances.\n",
      "Processed 166000 instances.\n",
      "Processed 168000 instances.\n",
      "Processed 170000 instances.\n",
      "Processed 172000 instances.\n",
      "Processed 174000 instances.\n",
      "Processed 176000 instances.\n",
      "Processed 178000 instances.\n",
      "Processed 180000 instances.\n",
      "Processed 182000 instances.\n",
      "Processed 184000 instances.\n",
      "Processed 186000 instances.\n",
      "Processed 188000 instances.\n",
      "Processed 190000 instances.\n",
      "Processed 192000 instances.\n",
      "Processed 194000 instances.\n",
      "Processed 196000 instances.\n",
      "Processed 198000 instances.\n",
      "Processed 200000 instances.\n",
      "Processed 202000 instances.\n",
      "Processed 204000 instances.\n",
      "Processed 206000 instances.\n",
      "Processed 208000 instances.\n",
      "Processed 210000 instances.\n",
      "Processed 212000 instances.\n",
      "Processed 214000 instances.\n",
      "Processed 216000 instances.\n",
      "Processed 218000 instances.\n",
      "Processed 220000 instances.\n",
      "Processed 222000 instances.\n",
      "Processed 224000 instances.\n",
      "Processed 226000 instances.\n",
      "Processed 228000 instances.\n",
      "Processed 230000 instances.\n",
      "Processed 232000 instances.\n",
      "Processed 234000 instances.\n",
      "Processed 236000 instances.\n",
      "Processed 238000 instances.\n",
      "Processed 240000 instances.\n",
      "Processed 242000 instances.\n",
      "Processed 244000 instances.\n",
      "Processed 246000 instances.\n",
      "Processed 248000 instances.\n",
      "Processed 250000 instances.\n",
      "Processed 252000 instances.\n",
      "Processed 254000 instances.\n",
      "Processed 256000 instances.\n",
      "Processed 258000 instances.\n",
      "Processed 260000 instances.\n",
      "Processed 262000 instances.\n",
      "Processed 264000 instances.\n",
      "Processed 266000 instances.\n",
      "Processed 268000 instances.\n",
      "Processed 270000 instances.\n",
      "Processed 272000 instances.\n",
      "Processed 274000 instances.\n",
      "Processed 276000 instances.\n",
      "Processed 278000 instances.\n",
      "Processed 280000 instances.\n",
      "Processed 282000 instances.\n",
      "Processed 284000 instances.\n",
      "Processed 286000 instances.\n",
      "Processed 288000 instances.\n",
      "Processed 290000 instances.\n",
      "Processed 292000 instances.\n",
      "Processed 294000 instances.\n",
      "Processed 296000 instances.\n",
      "Processed 298000 instances.\n",
      "Processed 300000 instances.\n",
      "Processed 302000 instances.\n",
      "Processed 304000 instances.\n",
      "Processed 306000 instances.\n",
      "Processed 308000 instances.\n",
      "Processed 310000 instances.\n",
      "Processed 312000 instances.\n",
      "Processed 314000 instances.\n",
      "Processed 316000 instances.\n",
      "Processed 318000 instances.\n",
      "Processed 320000 instances.\n",
      "Processed 322000 instances.\n",
      "Processed 324000 instances.\n",
      "Processed 326000 instances.\n",
      "Processed 328000 instances.\n",
      "Processed 330000 instances.\n",
      "Processed 332000 instances.\n",
      "Processed 334000 instances.\n",
      "Processed 336000 instances.\n",
      "Processed 338000 instances.\n",
      "Processed 340000 instances.\n",
      "Processed 342000 instances.\n",
      "Processed 344000 instances.\n",
      "Processed 346000 instances.\n",
      "Processed 348000 instances.\n",
      "Processed 350000 instances.\n",
      "Processed 352000 instances.\n",
      "Processed 354000 instances.\n",
      "Processed 356000 instances.\n",
      "Processed 358000 instances.\n",
      "Processed 360000 instances.\n",
      "Processed 362000 instances.\n",
      "Processed 364000 instances.\n",
      "Processed 366000 instances.\n",
      "Processed 368000 instances.\n",
      "Processed 370000 instances.\n",
      "Processed 372000 instances.\n",
      "Processed 374000 instances.\n",
      "Processed 376000 instances.\n",
      "Processed 378000 instances.\n",
      "Processed 380000 instances.\n",
      "Processed 382000 instances.\n",
      "Processed 384000 instances.\n",
      "Processed 386000 instances.\n",
      "Processed 388000 instances.\n",
      "Processed 390000 instances.\n",
      "Processed 392000 instances.\n",
      "Processed 394000 instances.\n",
      "Processed 396000 instances.\n",
      "Processed 398000 instances.\n",
      "Processed 400000 instances.\n",
      "Processed 402000 instances.\n",
      "Processed 404000 instances.\n",
      "Processed 406000 instances.\n",
      "Processed 408000 instances.\n",
      "Processed 410000 instances.\n",
      "Processed 412000 instances.\n",
      "Processed 414000 instances.\n",
      "Processed 416000 instances.\n",
      "Processed 418000 instances.\n",
      "Processed 418656 instances.\n",
      "Found 7 clusters online.\n",
      "\n",
      "* LogCluster Confusion Matrix \n",
      " [[139567      0]\n",
      " [  1190   3008]]\n",
      "* LogCluster Classification Report \n",
      "               precision    recall  f1-score   support\n",
      "\n",
      "           0     0.9915    1.0000    0.9958    139567\n",
      "           1     1.0000    0.7165    0.8349      4198\n",
      "\n",
      "    accuracy                         0.9917    143765\n",
      "   macro avg     0.9958    0.8583    0.9153    143765\n",
      "weighted avg     0.9918    0.9917    0.9911    143765\n",
      "\n",
      "0.9917226028588321\n",
      "None\n"
     ]
    },
    {
     "data": {
      "image/png": "[encoded data removed]",
      "text/plain": [
       "<Figure size 432x288 with 1 Axes>"
      ]
     },
     "metadata": {
      "needs_background": "light"
     },
     "output_type": "display_data"
    },
    {
     "data": {
      "image/png": "[encoded data removed]",
      "text/plain": [
       "<Figure size 432x288 with 1 Axes>"
      ]
     },
     "metadata": {
      "needs_background": "light"
     },
     "output_type": "display_data"
    }
   ],
   "source": [
    "model_LC = LogClustering(max_dist=0.3, anomaly_threshold=0.3)\n",
    "model_LC.fit(train_rs[train_label == 0, :]) # Use only normal samples for training\n",
    "\n",
    "predict_logcluster = model_LC.predict(test_rs)\n",
    "\n",
    "print(printReport(test_label, predict_logcluster, \"LogCluster\"))\n",
    "\n",
    "fig, ax = plt.subplots()\n",
    "RocCurveDisplay.from_predictions(test_label, predict_logcluster, name=\"LogCluster\", ax=ax)\n",
    "roc_prettify_plot(ax)\n",
    "\n",
    "fig, ax = plt.subplots()\n",
    "PrecisionRecallDisplay.from_predictions(test_label, predict_logcluster, name=\"LogCluster\", ax=ax)\n",
    "prc_prettify_plot(ax)"
   ]
  },
  {
   "cell_type": "markdown",
   "id": "601bb5be",
   "metadata": {},
   "source": [
    "### Hadoop - templates are generated by Drain3"
   ]
  },
  {
   "cell_type": "code",
   "execution_count": 6,
   "id": "fddaac54",
   "metadata": {},
   "outputs": [
    {
     "data": {
      "text/html": [
       "<div>\n",
       "<style scoped>\n",
       "    .dataframe tbody tr th:only-of-type {\n",
       "        vertical-align: middle;\n",
       "    }\n",
       "\n",
       "    .dataframe tbody tr th {\n",
       "        vertical-align: top;\n",
       "    }\n",
       "\n",
       "    .dataframe thead th {\n",
       "        text-align: right;\n",
       "    }\n",
       "</style>\n",
       "<table border=\"1\" class=\"dataframe\">\n",
       "  <thead>\n",
       "    <tr style=\"text-align: right;\">\n",
       "      <th></th>\n",
       "      <th>identifier</th>\n",
       "      <th>events</th>\n",
       "      <th>label</th>\n",
       "    </tr>\n",
       "  </thead>\n",
       "  <tbody>\n",
       "    <tr>\n",
       "      <th>0</th>\n",
       "      <td>container_1445076437777_0005_01_000004.log</td>\n",
       "      <td>['E1', 'E2', 'E3', 'E4', 'E5', 'E6', 'E7', 'E8...</td>\n",
       "      <td>0</td>\n",
       "    </tr>\n",
       "    <tr>\n",
       "      <th>1</th>\n",
       "      <td>container_1445087491445_0005_01_000007.log</td>\n",
       "      <td>['E1', 'E2', 'E3', 'E4', 'E5', 'E6', 'E7', 'E8...</td>\n",
       "      <td>0</td>\n",
       "    </tr>\n",
       "    <tr>\n",
       "      <th>2</th>\n",
       "      <td>container_1445094324383_0003_01_000018.log</td>\n",
       "      <td>['E1', 'E2', 'E3', 'E4', 'E5', 'E6', 'E7', 'E8...</td>\n",
       "      <td>1</td>\n",
       "    </tr>\n",
       "    <tr>\n",
       "      <th>3</th>\n",
       "      <td>container_1445087491445_0005_01_000013.log</td>\n",
       "      <td>['E1', 'E2', 'E3', 'E4', 'E5', 'E6', 'E7', 'E8...</td>\n",
       "      <td>0</td>\n",
       "    </tr>\n",
       "    <tr>\n",
       "      <th>4</th>\n",
       "      <td>container_1445076437777_0005_01_000010.log</td>\n",
       "      <td>['E1', 'E2', 'E3', 'E4', 'E5', 'E6', 'E7', 'E8...</td>\n",
       "      <td>0</td>\n",
       "    </tr>\n",
       "    <tr>\n",
       "      <th>...</th>\n",
       "      <td>...</td>\n",
       "      <td>...</td>\n",
       "      <td>...</td>\n",
       "    </tr>\n",
       "    <tr>\n",
       "      <th>975</th>\n",
       "      <td>container_1445087491445_0005_01_000022.log</td>\n",
       "      <td>['E1', 'E2', 'E171', 'E4', 'E5', 'E6', 'E7', '...</td>\n",
       "      <td>0</td>\n",
       "    </tr>\n",
       "    <tr>\n",
       "      <th>976</th>\n",
       "      <td>container_1445076437777_0005_01_000009.log</td>\n",
       "      <td>['E1', 'E2', 'E3', 'E4', 'E5', 'E6', 'E7', 'E8...</td>\n",
       "      <td>0</td>\n",
       "    </tr>\n",
       "    <tr>\n",
       "      <th>977</th>\n",
       "      <td>container_1445094324383_0003_01_000001.log</td>\n",
       "      <td>['E37', 'E4', 'E38', 'E39', 'E40', 'E41', 'E42...</td>\n",
       "      <td>1</td>\n",
       "    </tr>\n",
       "    <tr>\n",
       "      <th>978</th>\n",
       "      <td>container_1445094324383_0003_01_000015.log</td>\n",
       "      <td>['E1', 'E2', 'E3', 'E4', 'E5', 'E6', 'E7', 'E8...</td>\n",
       "      <td>1</td>\n",
       "    </tr>\n",
       "    <tr>\n",
       "      <th>979</th>\n",
       "      <td>container_1445087491445_0006_02_000001.log</td>\n",
       "      <td>['E37', 'E4', 'E38', 'E39', 'E40', 'E41', 'E42...</td>\n",
       "      <td>1</td>\n",
       "    </tr>\n",
       "  </tbody>\n",
       "</table>\n",
       "<p>980 rows × 3 columns</p>\n",
       "</div>"
      ],
      "text/plain": [
       "                                     identifier  \\\n",
       "0    container_1445076437777_0005_01_000004.log   \n",
       "1    container_1445087491445_0005_01_000007.log   \n",
       "2    container_1445094324383_0003_01_000018.log   \n",
       "3    container_1445087491445_0005_01_000013.log   \n",
       "4    container_1445076437777_0005_01_000010.log   \n",
       "..                                          ...   \n",
       "975  container_1445087491445_0005_01_000022.log   \n",
       "976  container_1445076437777_0005_01_000009.log   \n",
       "977  container_1445094324383_0003_01_000001.log   \n",
       "978  container_1445094324383_0003_01_000015.log   \n",
       "979  container_1445087491445_0006_02_000001.log   \n",
       "\n",
       "                                                events  label  \n",
       "0    ['E1', 'E2', 'E3', 'E4', 'E5', 'E6', 'E7', 'E8...      0  \n",
       "1    ['E1', 'E2', 'E3', 'E4', 'E5', 'E6', 'E7', 'E8...      0  \n",
       "2    ['E1', 'E2', 'E3', 'E4', 'E5', 'E6', 'E7', 'E8...      1  \n",
       "3    ['E1', 'E2', 'E3', 'E4', 'E5', 'E6', 'E7', 'E8...      0  \n",
       "4    ['E1', 'E2', 'E3', 'E4', 'E5', 'E6', 'E7', 'E8...      0  \n",
       "..                                                 ...    ...  \n",
       "975  ['E1', 'E2', 'E171', 'E4', 'E5', 'E6', 'E7', '...      0  \n",
       "976  ['E1', 'E2', 'E3', 'E4', 'E5', 'E6', 'E7', 'E8...      0  \n",
       "977  ['E37', 'E4', 'E38', 'E39', 'E40', 'E41', 'E42...      1  \n",
       "978  ['E1', 'E2', 'E3', 'E4', 'E5', 'E6', 'E7', 'E8...      1  \n",
       "979  ['E37', 'E4', 'E38', 'E39', 'E40', 'E41', 'E42...      1  \n",
       "\n",
       "[980 rows x 3 columns]"
      ]
     },
     "execution_count": 6,
     "metadata": {},
     "output_type": "execute_result"
    }
   ],
   "source": [
    "hadoop_ds = pd.read_csv('hadoop_drain3_ds.csv')\n",
    "\n",
    "train_hadoop = np.array(hadoop_ds['events'])\n",
    "test_hadoop = np.array(test_set['events'])\n",
    "train_hadoop_label = train_set['label']\n",
    "test_hadoop_label = test_set['label']\n",
    "\n",
    "feature_extractor = preprocessing.FeatureExtractor()\n",
    "train_hadoop = feature_extractor.fit_transform(train_hadoop, term_weighting='tf-idf')\n",
    "test_hadoop = feature_extractor.transform(test_hadoop)"
   ]
  },
  {
   "cell_type": "code",
   "execution_count": null,
   "id": "fffea86f",
   "metadata": {},
   "outputs": [],
   "source": [
    "model_LC = LogClustering(max_dist=0.3, anomaly_threshold=0.3)\n",
    "model_LC.fit(train_rs[train_label == 0, :]) # Use only normal samples for training\n",
    "\n",
    "predict_logcluster = model_LC.predict(test_rs)\n",
    "\n",
    "print(printReport(test_label, predict_logcluster, \"LogCluster\"))\n",
    "\n",
    "fig, ax = plt.subplots()\n",
    "RocCurveDisplay.from_predictions(test_label, predict_logcluster, name=\"LogCluster\", ax=ax)\n",
    "roc_prettify_plot(ax)\n",
    "\n",
    "fig, ax = plt.subplots()\n",
    "PrecisionRecallDisplay.from_predictions(test_label, predict_logcluster, name=\"LogCluster\", ax=ax)\n",
    "prc_prettify_plot(ax)"
   ]
  }
 ],
 "metadata": {
  "kernelspec": {
   "display_name": "Python 3.8.8 ('base')",
   "language": "python",
   "name": "python3"
  },
  "language_info": {
   "codemirror_mode": {
    "name": "ipython",
    "version": 3
   },
   "file_extension": ".py",
   "mimetype": "text/x-python",
   "name": "python",
   "nbconvert_exporter": "python",
   "pygments_lexer": "ipython3",
   "version": "3.8.8"
  },
  "vscode": {
   "interpreter": {
    "hash": "cd78fef2128015050713e82ca51c6520b11aee7c9ee8df750520bbbc7384cbaa"
   }
  }
 },
 "nbformat": 4,
 "nbformat_minor": 5
}
