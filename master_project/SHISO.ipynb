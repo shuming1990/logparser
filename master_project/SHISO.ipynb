{
 "cells": [
  {
   "cell_type": "code",
   "execution_count": null,
   "metadata": {},
   "outputs": [],
   "source": [
    "#!/usr/bin/env python\n",
    "import sys\n",
    "sys.path.append('../')\n",
    "from logparser import SHISO\n",
    "\n",
    "input_dir  = '../data/' # The input directory of log file\n",
    "output_dir = 'SHISO_result/' # The output directory of parsing results\n",
    "log_file   = 'HDFS.log' # The input log file name\n",
    "log_format = '<Date> <Time> <Pid> <Level> <Component>: <Content>' # HDFS log format\n",
    "regex       = [r'blk_-?\\d+', r'(\\d+\\.){3}\\d+(:\\d+)?'] # Regular expression list for optional preprocessing (default: [])\n",
    "maxChildNum = 4 # The maximum number of children for each internal node\n",
    "mergeThreshold = 0.1 # Threshold for searching the most similar template in the children\n",
    "formatLookupThreshold = 0.3 # Lowerbound to find the most similar node to adjust\n",
    "superFormatThreshold  = 0.85 # Threshold of average LCS length, determing whether or not to create a super format\n",
    "\n",
    "parser = SHISO.LogParser(log_format,indir=input_dir,outdir=output_dir, rex=regex, maxChildNum=maxChildNum, \n",
    "                         mergeThreshold=mergeThreshold, formatLookupThreshold=formatLookupThreshold, \n",
    "                         superFormatThreshold=superFormatThreshold)\n",
    "parser.parse(log_file)\n"
   ]
  },
  {
   "cell_type": "code",
   "execution_count": null,
   "metadata": {},
   "outputs": [],
   "source": [
    "#!/usr/bin/env python\n",
    "import sys\n",
    "sys.path.append('../')\n",
    "from logparser import SHISO\n",
    "\n",
    "input_dir  = '../data/merged_hadoop/' # The input directory of log file\n",
    "output_dir = 'SHISO_result/' # The output directory of parsing results\n",
    "log_file   = 'merged.log' # The input log file name\n",
    "log_format = '<Date> <Time> <Level> <Thread> <Component>: <Content>' # Hadoop log format\n",
    "regex       = [r'blk_-?\\d+', r'(\\d+\\.){3}\\d+(:\\d+)?'] # Regular expression list for optional preprocessing (default: [])\n",
    "maxChildNum = 4 # The maximum number of children for each internal node\n",
    "mergeThreshold = 0.1 # Threshold for searching the most similar template in the children\n",
    "formatLookupThreshold = 0.3 # Lowerbound to find the most similar node to adjust\n",
    "superFormatThreshold  = 0.85 # Threshold of average LCS length, determing whether or not to create a super format\n",
    "\n",
    "parser = SHISO.LogParser(log_format,indir=input_dir,outdir=output_dir, rex=regex, maxChildNum=maxChildNum, \n",
    "                         mergeThreshold=mergeThreshold, formatLookupThreshold=formatLookupThreshold, \n",
    "                         superFormatThreshold=superFormatThreshold)\n",
    "parser.parse(log_file)\n"
   ]
  }
 ],
 "metadata": {
  "kernelspec": {
   "display_name": "Python 2.7.15 64-bit ('2.7.15')",
   "language": "python",
   "name": "python3"
  },
  "language_info": {
   "name": "python",
   "version": "2.7.15"
  },
  "orig_nbformat": 4,
  "vscode": {
   "interpreter": {
    "hash": "959bcae6438a3cb0c7805321423a80ab92aa9e88e1a4a8a9b78770b43e3d41c6"
   }
  }
 },
 "nbformat": 4,
 "nbformat_minor": 2
}
