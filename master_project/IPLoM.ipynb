{
 "cells": [
  {
   "cell_type": "code",
   "execution_count": null,
   "metadata": {},
   "outputs": [],
   "source": [
    "#!/usr/bin/env python\n",
    "\n",
    "import sys\n",
    "sys.path.append('../')\n",
    "from logparser import IPLoM\n",
    "\n",
    "input_dir  = '../data/' # The input directory of log file\n",
    "output_dir = 'IPLoM_result/' # The output directory of parsing results\n",
    "log_file   = 'HDFS.log' # The input log file name\n",
    "log_format = '<Date> <Time> <Pid> <Level> <Component>: <Content>' # HDFS log format\n",
    "maxEventLen  = 120  # The maximal token number of log messages (default: 200)\n",
    "step2Support = 0  # The minimal support for creating a new partition (default: 0)\n",
    "CT           = 0.35  # The cluster goodness threshold (default: 0.35)\n",
    "lowerBound   = 0.25  # The lower bound distance (default: 0.25)\n",
    "upperBound   = 0.9  # The upper bound distance (default: 0.9)\n",
    "regex        = []  # Regular expression list for optional preprocessing (default: [])\n",
    "\n",
    "parser = IPLoM.LogParser(log_format=log_format, indir=input_dir, outdir=output_dir,\n",
    "                         maxEventLen=maxEventLen, step2Support=step2Support, CT=CT, \n",
    "                         lowerBound=lowerBound, upperBound=upperBound, rex=regex)\n",
    "parser.parse(log_file)\n"
   ]
  },
  {
   "cell_type": "code",
   "execution_count": null,
   "metadata": {},
   "outputs": [],
   "source": [
    "#!/usr/bin/env python\n",
    "\n",
    "import sys\n",
    "sys.path.append('../')\n",
    "from logparser import IPLoM\n",
    "\n",
    "input_dir  = '../data/merged_hadoop/' # The input directory of log file\n",
    "output_dir = 'IPLoM_result/' # The output directory of parsing results\n",
    "log_file   = 'merged.log' # The input log file name\n",
    "log_format = '<Date> <Time> <Level> <Thread> <Component>: <Content>' # Hadoop log format\n",
    "maxEventLen  = 120  # The maximal token number of log messages (default: 200)\n",
    "step2Support = 0  # The minimal support for creating a new partition (default: 0)\n",
    "CT           = 0.35  # The cluster goodness threshold (default: 0.35)\n",
    "lowerBound   = 0.25  # The lower bound distance (default: 0.25)\n",
    "upperBound   = 0.9  # The upper bound distance (default: 0.9)\n",
    "regex        = []  # Regular expression list for optional preprocessing (default: [])\n",
    "\n",
    "parser = IPLoM.LogParser(log_format=log_format, indir=input_dir, outdir=output_dir,\n",
    "                         maxEventLen=maxEventLen, step2Support=step2Support, CT=CT, \n",
    "                         lowerBound=lowerBound, upperBound=upperBound, rex=regex)\n",
    "parser.parse(log_file)\n"
   ]
  }
 ],
 "metadata": {
  "kernelspec": {
   "display_name": "Python 2.7.15 64-bit ('2.7.15')",
   "language": "python",
   "name": "python3"
  },
  "language_info": {
   "name": "python",
   "version": "2.7.15"
  },
  "orig_nbformat": 4,
  "vscode": {
   "interpreter": {
    "hash": "959bcae6438a3cb0c7805321423a80ab92aa9e88e1a4a8a9b78770b43e3d41c6"
   }
  }
 },
 "nbformat": 4,
 "nbformat_minor": 2
}
